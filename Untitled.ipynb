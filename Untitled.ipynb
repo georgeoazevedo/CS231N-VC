{
 "cells": [
  {
   "cell_type": "code",
   "execution_count": 10,
   "metadata": {},
   "outputs": [
    {
     "name": "stdout",
     "output_type": "stream",
     "text": [
      "treino é [[0.58133961 0.71636941 0.05685686]\n",
      " [0.60158337 0.93470965 0.60462705]\n",
      " [0.09719749 0.23376328 0.00954726]\n",
      " [0.37945888 0.6936895  0.32830847]\n",
      " [0.4153102  0.76063713 0.28502026]]\n",
      "teste é: [[0.44538521 0.45865712 0.06052347]\n",
      " [0.93437193 0.72328785 0.30431438]]\n"
     ]
    }
   ],
   "source": [
    "import numpy as np\n",
    "\n",
    "#Criando arrays\n",
    "train = np.random.rand(5,3)\n",
    "print(\"treino é\",train)\n",
    "test = np.random.rand(2,3)\n",
    "print(\"teste é:\",test)"
   ]
  },
  {
   "cell_type": "code",
   "execution_count": 14,
   "metadata": {},
   "outputs": [
    {
     "data": {
      "text/plain": [
       "5"
      ]
     },
     "execution_count": 14,
     "metadata": {},
     "output_type": "execute_result"
    }
   ],
   "source": [
    "num_test = test.shape[0]\n",
    "num_test\n",
    "num_train = train.shape[0]\n",
    "num_train"
   ]
  },
  {
   "cell_type": "code",
   "execution_count": 20,
   "metadata": {},
   "outputs": [],
   "source": [
    "dists2=np.zeros((num_test,num_train))\n",
    "dists1=np.zeros((num_test,num_train))\n",
    "dists0=np.zeros((num_test,num_train))"
   ]
  },
  {
   "cell_type": "code",
   "execution_count": 45,
   "metadata": {},
   "outputs": [],
   "source": [
    "for i in range(num_test):\n",
    "    for j in range(num_train):\n",
    "        dists2[i][j]=np.sqrt(np.sum(np.square(np.abs(test[i]-train[j]))))\n",
    "        #print(test[i]-train[j])\n",
    "        #print(\"----------------------\")\n",
    "        #print(np.abs((test[i]-train[j])))\n",
    "        #print(\"======================\")\n",
    "        \n",
    "    #pass\n",
    "    "
   ]
  },
  {
   "cell_type": "code",
   "execution_count": 46,
   "metadata": {},
   "outputs": [
    {
     "data": {
      "text/plain": [
       "array([[0.29139779, 0.73964355, 0.41762483, 0.36234695, 0.37748541],\n",
       "       [0.43117851, 0.49561587, 1.01359903, 0.55621962, 0.52076128]])"
      ]
     },
     "execution_count": 46,
     "metadata": {},
     "output_type": "execute_result"
    }
   ],
   "source": [
    "dists2"
   ]
  },
  {
   "cell_type": "code",
   "execution_count": 62,
   "metadata": {},
   "outputs": [],
   "source": [
    "for i in range(num_test):\n",
    "    #Se não colocar o 1, que representa pra fazer a soma entre colunas, haverá erro no somatório\n",
    "    dists1[i][:]=np.sqrt(np.sum(np.square(test[i,:]-train),1))"
   ]
  },
  {
   "cell_type": "code",
   "execution_count": 65,
   "metadata": {},
   "outputs": [
    {
     "data": {
      "text/plain": [
       "array([[0.29139779, 0.73964355, 0.41762483, 0.36234695, 0.37748541],\n",
       "       [0.43117851, 0.49561587, 1.01359903, 0.55621962, 0.52076128]])"
      ]
     },
     "execution_count": 65,
     "metadata": {},
     "output_type": "execute_result"
    }
   ],
   "source": [
    "dists1"
   ]
  },
  {
   "cell_type": "code",
   "execution_count": 82,
   "metadata": {},
   "outputs": [
    {
     "name": "stdout",
     "output_type": "stream",
     "text": [
      "[[0. 0. 0. 0. 0.]\n",
      " [0. 0. 0. 0. 0.]]\n",
      "\n",
      " [0.85437359 1.60115855 0.06418377 0.73298062 0.83228794]\n",
      "\n",
      " [[0.41239743]\n",
      " [1.48880345]]\n",
      "\n",
      " [[-1.18185834 -2.15726213]\n",
      " [-1.4664834  -2.84432691]\n",
      " [-0.3021707  -0.52560423]\n",
      " [-1.01408274 -1.91240381]\n",
      " [-1.10219014 -2.04989909]]\n"
     ]
    }
   ],
   "source": [
    "#Determinando a matriz distâncias sem realizar nenhum loop:\n",
    "train_norm = np.sum(np.square(train),1)\n",
    "test_norm=np.sum(np.square(test),1,keepdims=True)\n",
    "cross_norm = -2.0*train.dot(test.T)\n",
    "\n",
    "\n",
    "print(dists0)\n",
    "print(\"\\n\",train_norm)\n",
    "print(\"\\n\",test_norm)\n",
    "print(\"\\n\",cross_norm)"
   ]
  },
  {
   "cell_type": "code",
   "execution_count": 86,
   "metadata": {},
   "outputs": [
    {
     "data": {
      "text/plain": [
       "array([[0.29139779, 0.73964355, 0.41762483, 0.36234695, 0.37748541],\n",
       "       [0.43117851, 0.49561587, 1.01359903, 0.55621962, 0.52076128]])"
      ]
     },
     "execution_count": 86,
     "metadata": {},
     "output_type": "execute_result"
    }
   ],
   "source": [
    "np.sqrt(test_norm + train_norm + cross_norm.T)"
   ]
  },
  {
   "cell_type": "code",
   "execution_count": null,
   "metadata": {},
   "outputs": [],
   "source": []
  }
 ],
 "metadata": {
  "kernelspec": {
   "display_name": "Python 3",
   "language": "python",
   "name": "python3"
  },
  "language_info": {
   "codemirror_mode": {
    "name": "ipython",
    "version": 3
   },
   "file_extension": ".py",
   "mimetype": "text/x-python",
   "name": "python",
   "nbconvert_exporter": "python",
   "pygments_lexer": "ipython3",
   "version": "3.6.5"
  }
 },
 "nbformat": 4,
 "nbformat_minor": 2
}
